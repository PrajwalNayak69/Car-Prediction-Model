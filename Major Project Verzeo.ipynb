{
 "cells": [
  {
   "cell_type": "markdown",
   "metadata": {},
   "source": [
    "# TITLE - Used car managment system"
   ]
  },
  {
   "cell_type": "markdown",
   "metadata": {},
   "source": [
    "<b>Objective -</b> predicting the costs of used cars given the data collected from various sources and distributed across various locations in India"
   ]
  },
  {
   "cell_type": "code",
   "execution_count": 3,
   "metadata": {},
   "outputs": [],
   "source": [
    "import pandas as pd\n",
    "import numpy as np\n",
    "import matplotlib.pyplot as plt\n",
    "%matplotlib inline"
   ]
  },
  {
   "cell_type": "markdown",
   "metadata": {},
   "source": [
    "First of all imported <b>pandas</b> and <b>numpy</b> as pd and np respectively and imported the <b>matplot liberary</b> as plt."
   ]
  },
  {
   "cell_type": "code",
   "execution_count": 2,
   "metadata": {},
   "outputs": [],
   "source": [
    "data = pd.read_excel('Data_Train.xlsx')\n",
    "test_data = pd.read_excel('Data_Test.xlsx')"
   ]
  },
  {
   "cell_type": "markdown",
   "metadata": {},
   "source": [
    "Then we got the data from the <b>Excel data</b> files provided to us which are in .xlsx format. "
   ]
  },
  {
   "cell_type": "markdown",
   "metadata": {},
   "source": [
    "## Preprocessing Data"
   ]
  },
  {
   "cell_type": "code",
   "execution_count": 3,
   "metadata": {
    "scrolled": true
   },
   "outputs": [
    {
     "data": {
      "text/html": [
       "<div>\n",
       "<style scoped>\n",
       "    .dataframe tbody tr th:only-of-type {\n",
       "        vertical-align: middle;\n",
       "    }\n",
       "\n",
       "    .dataframe tbody tr th {\n",
       "        vertical-align: top;\n",
       "    }\n",
       "\n",
       "    .dataframe thead th {\n",
       "        text-align: right;\n",
       "    }\n",
       "</style>\n",
       "<table border=\"1\" class=\"dataframe\">\n",
       "  <thead>\n",
       "    <tr style=\"text-align: right;\">\n",
       "      <th></th>\n",
       "      <th>Name</th>\n",
       "      <th>Location</th>\n",
       "      <th>Year</th>\n",
       "      <th>Kilometers_Driven</th>\n",
       "      <th>Fuel_Type</th>\n",
       "      <th>Transmission</th>\n",
       "      <th>Owner_Type</th>\n",
       "      <th>Mileage</th>\n",
       "      <th>Engine</th>\n",
       "      <th>Power</th>\n",
       "      <th>Seats</th>\n",
       "      <th>New_Price</th>\n",
       "      <th>Price</th>\n",
       "    </tr>\n",
       "  </thead>\n",
       "  <tbody>\n",
       "    <tr>\n",
       "      <th>0</th>\n",
       "      <td>Maruti Wagon R LXI CNG</td>\n",
       "      <td>Mumbai</td>\n",
       "      <td>2010</td>\n",
       "      <td>72000</td>\n",
       "      <td>CNG</td>\n",
       "      <td>Manual</td>\n",
       "      <td>First</td>\n",
       "      <td>26.6 km/kg</td>\n",
       "      <td>998 CC</td>\n",
       "      <td>58.16 bhp</td>\n",
       "      <td>5.0</td>\n",
       "      <td>NaN</td>\n",
       "      <td>1.75</td>\n",
       "    </tr>\n",
       "    <tr>\n",
       "      <th>1</th>\n",
       "      <td>Hyundai Creta 1.6 CRDi SX Option</td>\n",
       "      <td>Pune</td>\n",
       "      <td>2015</td>\n",
       "      <td>41000</td>\n",
       "      <td>Diesel</td>\n",
       "      <td>Manual</td>\n",
       "      <td>First</td>\n",
       "      <td>19.67 kmpl</td>\n",
       "      <td>1582 CC</td>\n",
       "      <td>126.2 bhp</td>\n",
       "      <td>5.0</td>\n",
       "      <td>NaN</td>\n",
       "      <td>12.50</td>\n",
       "    </tr>\n",
       "    <tr>\n",
       "      <th>2</th>\n",
       "      <td>Honda Jazz V</td>\n",
       "      <td>Chennai</td>\n",
       "      <td>2011</td>\n",
       "      <td>46000</td>\n",
       "      <td>Petrol</td>\n",
       "      <td>Manual</td>\n",
       "      <td>First</td>\n",
       "      <td>18.2 kmpl</td>\n",
       "      <td>1199 CC</td>\n",
       "      <td>88.7 bhp</td>\n",
       "      <td>5.0</td>\n",
       "      <td>8.61 Lakh</td>\n",
       "      <td>4.50</td>\n",
       "    </tr>\n",
       "    <tr>\n",
       "      <th>3</th>\n",
       "      <td>Maruti Ertiga VDI</td>\n",
       "      <td>Chennai</td>\n",
       "      <td>2012</td>\n",
       "      <td>87000</td>\n",
       "      <td>Diesel</td>\n",
       "      <td>Manual</td>\n",
       "      <td>First</td>\n",
       "      <td>20.77 kmpl</td>\n",
       "      <td>1248 CC</td>\n",
       "      <td>88.76 bhp</td>\n",
       "      <td>7.0</td>\n",
       "      <td>NaN</td>\n",
       "      <td>6.00</td>\n",
       "    </tr>\n",
       "    <tr>\n",
       "      <th>4</th>\n",
       "      <td>Audi A4 New 2.0 TDI Multitronic</td>\n",
       "      <td>Coimbatore</td>\n",
       "      <td>2013</td>\n",
       "      <td>40670</td>\n",
       "      <td>Diesel</td>\n",
       "      <td>Automatic</td>\n",
       "      <td>Second</td>\n",
       "      <td>15.2 kmpl</td>\n",
       "      <td>1968 CC</td>\n",
       "      <td>140.8 bhp</td>\n",
       "      <td>5.0</td>\n",
       "      <td>NaN</td>\n",
       "      <td>17.74</td>\n",
       "    </tr>\n",
       "  </tbody>\n",
       "</table>\n",
       "</div>"
      ],
      "text/plain": [
       "                               Name    Location  Year  Kilometers_Driven  \\\n",
       "0            Maruti Wagon R LXI CNG      Mumbai  2010              72000   \n",
       "1  Hyundai Creta 1.6 CRDi SX Option        Pune  2015              41000   \n",
       "2                      Honda Jazz V     Chennai  2011              46000   \n",
       "3                 Maruti Ertiga VDI     Chennai  2012              87000   \n",
       "4   Audi A4 New 2.0 TDI Multitronic  Coimbatore  2013              40670   \n",
       "\n",
       "  Fuel_Type Transmission Owner_Type     Mileage   Engine      Power  Seats  \\\n",
       "0       CNG       Manual      First  26.6 km/kg   998 CC  58.16 bhp    5.0   \n",
       "1    Diesel       Manual      First  19.67 kmpl  1582 CC  126.2 bhp    5.0   \n",
       "2    Petrol       Manual      First   18.2 kmpl  1199 CC   88.7 bhp    5.0   \n",
       "3    Diesel       Manual      First  20.77 kmpl  1248 CC  88.76 bhp    7.0   \n",
       "4    Diesel    Automatic     Second   15.2 kmpl  1968 CC  140.8 bhp    5.0   \n",
       "\n",
       "   New_Price  Price  \n",
       "0        NaN   1.75  \n",
       "1        NaN  12.50  \n",
       "2  8.61 Lakh   4.50  \n",
       "3        NaN   6.00  \n",
       "4        NaN  17.74  "
      ]
     },
     "execution_count": 3,
     "metadata": {},
     "output_type": "execute_result"
    }
   ],
   "source": [
    "data.head()"
   ]
  },
  {
   "cell_type": "markdown",
   "metadata": {},
   "source": [
    "then we get the <b>head</b> from the data and as output the table printed."
   ]
  },
  {
   "cell_type": "code",
   "execution_count": 4,
   "metadata": {},
   "outputs": [
    {
     "name": "stdout",
     "output_type": "stream",
     "text": [
      "<class 'pandas.core.frame.DataFrame'>\n",
      "RangeIndex: 6019 entries, 0 to 6018\n",
      "Data columns (total 13 columns):\n",
      "Name                 6019 non-null object\n",
      "Location             6019 non-null object\n",
      "Year                 6019 non-null int64\n",
      "Kilometers_Driven    6019 non-null int64\n",
      "Fuel_Type            6019 non-null object\n",
      "Transmission         6019 non-null object\n",
      "Owner_Type           6019 non-null object\n",
      "Mileage              6017 non-null object\n",
      "Engine               5983 non-null object\n",
      "Power                5983 non-null object\n",
      "Seats                5977 non-null float64\n",
      "New_Price            824 non-null object\n",
      "Price                6019 non-null float64\n",
      "dtypes: float64(2), int64(2), object(9)\n",
      "memory usage: 611.4+ KB\n"
     ]
    }
   ],
   "source": [
    "data.info()"
   ]
  },
  {
   "cell_type": "markdown",
   "metadata": {},
   "source": [
    "Checked for the <b>duplicate values</b> in the data provided."
   ]
  },
  {
   "cell_type": "code",
   "execution_count": 5,
   "metadata": {},
   "outputs": [
    {
     "data": {
      "text/html": [
       "<div>\n",
       "<style scoped>\n",
       "    .dataframe tbody tr th:only-of-type {\n",
       "        vertical-align: middle;\n",
       "    }\n",
       "\n",
       "    .dataframe tbody tr th {\n",
       "        vertical-align: top;\n",
       "    }\n",
       "\n",
       "    .dataframe thead th {\n",
       "        text-align: right;\n",
       "    }\n",
       "</style>\n",
       "<table border=\"1\" class=\"dataframe\">\n",
       "  <thead>\n",
       "    <tr style=\"text-align: right;\">\n",
       "      <th></th>\n",
       "      <th>Name</th>\n",
       "      <th>Location</th>\n",
       "      <th>Year</th>\n",
       "      <th>Kilometers_Driven</th>\n",
       "      <th>Fuel_Type</th>\n",
       "      <th>Transmission</th>\n",
       "      <th>Owner_Type</th>\n",
       "      <th>Mileage</th>\n",
       "      <th>Engine</th>\n",
       "      <th>Power</th>\n",
       "      <th>Seats</th>\n",
       "      <th>New_Price</th>\n",
       "      <th>Price</th>\n",
       "    </tr>\n",
       "  </thead>\n",
       "  <tbody>\n",
       "  </tbody>\n",
       "</table>\n",
       "</div>"
      ],
      "text/plain": [
       "Empty DataFrame\n",
       "Columns: [Name, Location, Year, Kilometers_Driven, Fuel_Type, Transmission, Owner_Type, Mileage, Engine, Power, Seats, New_Price, Price]\n",
       "Index: []"
      ]
     },
     "execution_count": 5,
     "metadata": {},
     "output_type": "execute_result"
    }
   ],
   "source": [
    "data[data.duplicated() == True]"
   ]
  },
  {
   "cell_type": "code",
   "execution_count": 6,
   "metadata": {},
   "outputs": [
    {
     "name": "stderr",
     "output_type": "stream",
     "text": [
      "C:\\Users\\Rishabh\\Anaconda3\\lib\\site-packages\\ipykernel_launcher.py:1: SettingWithCopyWarning: \n",
      "A value is trying to be set on a copy of a slice from a DataFrame.\n",
      "Try using .loc[row_indexer,col_indexer] = value instead\n",
      "\n",
      "See the caveats in the documentation: http://pandas.pydata.org/pandas-docs/stable/indexing.html#indexing-view-versus-copy\n",
      "  \"\"\"Entry point for launching an IPython kernel.\n"
     ]
    }
   ],
   "source": [
    "data[data['Kilometers_Driven'] == 6500000]['Kilometers_Driven'] = 650000"
   ]
  },
  {
   "cell_type": "markdown",
   "metadata": {},
   "source": [
    "Fixed te names in data to get proper <b>brand names, car names and model name</b> in the data. Added three new features to the data as <b>Brand, Car_Name, Model</b> in the data."
   ]
  },
  {
   "cell_type": "code",
   "execution_count": 7,
   "metadata": {},
   "outputs": [],
   "source": [
    "Name = list(data['Name'])\n",
    "Brand = []\n",
    "Car_Name = []\n",
    "Model = []\n",
    "\n",
    "for i in range(len(Name)):\n",
    "    if 'Range Rover' in Name[i]:\n",
    "        Name[i] = Name[i].replace('Range Rover','Range_Rover')\n",
    "    if 'Land Rover' in Name[i]:\n",
    "        Name[i] = Name[i].replace('Land Rover', 'Land_Rover')\n",
    "    if ' Series' in Name[i]:\n",
    "        Name[i] = Name[i].replace(' Series', 'Series')\n",
    "    if ' New' in Name[i]:\n",
    "        Name[i] = Name[i].replace(' New','')\n",
    "    if ' Class' in Name[i]:\n",
    "        Name[i] = Name[i].replace(' Class','-Class')\n",
    "    if 'Wagon R' in Name[i]:\n",
    "        Name[i] = Name[i].replace('Wagon R', 'WagonR')\n",
    "\n",
    "    i = Name[i]\n",
    "    i = i.split(' ',2)\n",
    "    Brand.append(i[0])\n",
    "    Car_Name.append(i[1])\n",
    "    if len(i) == 2:\n",
    "        i.append('Lxi')\n",
    "    Model.append(i[2])\n",
    "        \n",
    "    \n",
    "Brand = pd.Series(Brand)\n",
    "Car_Name = pd.Series(Car_Name)\n",
    "Model = pd.Series(Model)\n",
    "\n",
    "data['Brand'] = Brand\n",
    "data['Car_Name'] = Car_Name\n",
    "data['Model'] = Model"
   ]
  },
  {
   "cell_type": "markdown",
   "metadata": {},
   "source": [
    "Converted the <b>year column</b> into <b>how old the car</b> is by subtracting it from the current year."
   ]
  },
  {
   "cell_type": "code",
   "execution_count": 8,
   "metadata": {},
   "outputs": [],
   "source": [
    "current_year = 2020\n",
    "data['Year'] = current_year - data['Year']"
   ]
  },
  {
   "cell_type": "markdown",
   "metadata": {},
   "source": [
    "Converted Transmission into <b>binary</b> and then converted Owner Type into <b>numerical data.</b>"
   ]
  },
  {
   "cell_type": "code",
   "execution_count": 9,
   "metadata": {},
   "outputs": [],
   "source": [
    "Transmission = list(data['Transmission'])\n",
    "Owner_Type = list(data['Owner_Type'])\n",
    "Dict_t = {'Automatic':1, 'Manual':0}\n",
    "Dict_o = {'First':1, 'Second':2, 'Third':3, 'Fourth & Above':4}\n",
    "for i in range(len(Transmission)):\n",
    "    t = Transmission[i]\n",
    "    o = Owner_Type[i]\n",
    "    \n",
    "    Transmission[i] = Dict_t[t]\n",
    "    Owner_Type[i] = Dict_o[o]\n",
    "    \n",
    "data['Transmission'] = pd.Series(Transmission)\n",
    "data['Owner_Type'] = pd.Series(Owner_Type)\n"
   ]
  },
  {
   "cell_type": "markdown",
   "metadata": {},
   "source": [
    "Cleaned <b>Mileage</b> Column and identifying where the <b>values are 0.0</b>."
   ]
  },
  {
   "cell_type": "code",
   "execution_count": 10,
   "metadata": {},
   "outputs": [],
   "source": [
    "Mileage = list(data['Mileage'])\n",
    "Fuel_Type = data['Fuel_Type']\n",
    "\n",
    "for i in range(len(Mileage)):\n",
    "    if 'CNG' in Fuel_Type[i] or 'LPG' in Fuel_Type[i] :\n",
    "        Mileage[i] = Mileage[i].replace('km/kg','')\n",
    "        Mileage[i] = Mileage[i].strip()\n",
    "        Mileage[i] = float(Mileage[i])\n",
    "        \n",
    "    if 'Petrol' in Fuel_Type[i] or 'Diesel' in Fuel_Type[i]:\n",
    "        Mileage[i] = Mileage[i].replace('kmpl','')\n",
    "        Mileage[i] = Mileage[i].strip()\n",
    "        Mileage[i] = float(Mileage[i])\n",
    "    \n",
    "    if Mileage[i] == 0.0 :\n",
    "        Mileage[i] = np.nan\n",
    "    \n",
    "data['Mileage'] = Mileage"
   ]
  },
  {
   "cell_type": "markdown",
   "metadata": {},
   "source": [
    "Cleaned <b>engine</b> and <b>power</b> columns and identifying where the value is <b>null bhp in power</b>."
   ]
  },
  {
   "cell_type": "code",
   "execution_count": 11,
   "metadata": {},
   "outputs": [],
   "source": [
    "engine = list(data['Engine'])\n",
    "power = list(data['Power'])\n",
    "\n",
    "for i in range(len(engine)):\n",
    "    if 'CC' in str(engine[i]):\n",
    "        engine[i] = engine[i].replace(' CC','')\n",
    "        engine[i] = float(engine[i])\n",
    "    if power[i] == 'null bhp':\n",
    "        power[i] = np.nan\n",
    "    if 'bhp' in str(power[i]):\n",
    "        power[i] = power[i].replace(' bhp','')\n",
    "        power[i] = float(power[i])\n",
    "data['Engine'] = engine\n",
    "data['Power'] = power\n"
   ]
  },
  {
   "cell_type": "markdown",
   "metadata": {},
   "source": [
    "Checked for <b>similar cars</b> in <b>not</b> null dataset and filling null values of <b>power and engine</b> with it."
   ]
  },
  {
   "cell_type": "code",
   "execution_count": 12,
   "metadata": {},
   "outputs": [
    {
     "name": "stderr",
     "output_type": "stream",
     "text": [
      "C:\\Users\\Rishabh\\Anaconda3\\lib\\site-packages\\ipykernel_launcher.py:36: SettingWithCopyWarning: \n",
      "A value is trying to be set on a copy of a slice from a DataFrame.\n",
      "Try using .loc[row_indexer,col_indexer] = value instead\n",
      "\n",
      "See the caveats in the documentation: http://pandas.pydata.org/pandas-docs/stable/indexing.html#indexing-view-versus-copy\n",
      "C:\\Users\\Rishabh\\Anaconda3\\lib\\site-packages\\ipykernel_launcher.py:37: SettingWithCopyWarning: \n",
      "A value is trying to be set on a copy of a slice from a DataFrame.\n",
      "Try using .loc[row_indexer,col_indexer] = value instead\n",
      "\n",
      "See the caveats in the documentation: http://pandas.pydata.org/pandas-docs/stable/indexing.html#indexing-view-versus-copy\n",
      "C:\\Users\\Rishabh\\Anaconda3\\lib\\site-packages\\ipykernel_launcher.py:38: SettingWithCopyWarning: \n",
      "A value is trying to be set on a copy of a slice from a DataFrame.\n",
      "Try using .loc[row_indexer,col_indexer] = value instead\n",
      "\n",
      "See the caveats in the documentation: http://pandas.pydata.org/pandas-docs/stable/indexing.html#indexing-view-versus-copy\n"
     ]
    }
   ],
   "source": [
    "data_null = data[data['Power'].isnull() == True]\n",
    "data_notnull = data[data['Power'].isnull() == False]\n",
    "\n",
    "_mileage = list(data_notnull['Mileage'])\n",
    "_engine = list(data_notnull['Engine'])\n",
    "_power = list(data_notnull['Power'])\n",
    "_car = list(data_notnull['Car_Name'])\n",
    "d = {}\n",
    "\n",
    "for i in range(len(_mileage)):\n",
    "    if _car[i] not in d:\n",
    "        d[_car[i]] = np.array([_mileage[i],_engine[i],_power[i],1])\n",
    "    else:\n",
    "        d[_car[i]] += np.array([_mileage[i],_engine[i],_power[i],1])\n",
    "        \n",
    "for i in d:\n",
    "    d[i] = d[i]/d[i][3]\n",
    "\n",
    "_mileage = list(data_null['Mileage'])\n",
    "_engine = list(data_null['Engine'])\n",
    "_power = list(data_null['Power'])\n",
    "_car = list(data_null['Car_Name'])\n",
    "\n",
    "for i in range(len(_mileage)):\n",
    "    if str(_mileage[i]) == 'nan':\n",
    "        if _car[i] in d:\n",
    "            _mileage[i] = d[_car[i]][0]\n",
    "    if str(_engine[i]) == 'nan':\n",
    "        if _car[i] in d:\n",
    "            _engine[i] = d[_car[i]][1]\n",
    "    if str(_power[i]) == 'nan':\n",
    "        if _car[i] in d:\n",
    "            _power[i] = d[_car[i]][2]\n",
    "\n",
    "data_null['Mileage'] = _mileage\n",
    "data_null['Engine'] = _engine\n",
    "data_null['Power'] = _power\n",
    "\n",
    "data = pd.concat([data_notnull, data_null])"
   ]
  },
  {
   "cell_type": "markdown",
   "metadata": {},
   "source": [
    "Checked for <b>similar cars</b> in <b>not</b> null dataset and filling null values of <b>mileage with it.</b> "
   ]
  },
  {
   "cell_type": "code",
   "execution_count": 13,
   "metadata": {},
   "outputs": [
    {
     "name": "stderr",
     "output_type": "stream",
     "text": [
      "C:\\Users\\Rishabh\\Anaconda3\\lib\\site-packages\\ipykernel_launcher.py:32: SettingWithCopyWarning: \n",
      "A value is trying to be set on a copy of a slice from a DataFrame.\n",
      "Try using .loc[row_indexer,col_indexer] = value instead\n",
      "\n",
      "See the caveats in the documentation: http://pandas.pydata.org/pandas-docs/stable/indexing.html#indexing-view-versus-copy\n",
      "C:\\Users\\Rishabh\\Anaconda3\\lib\\site-packages\\ipykernel_launcher.py:33: SettingWithCopyWarning: \n",
      "A value is trying to be set on a copy of a slice from a DataFrame.\n",
      "Try using .loc[row_indexer,col_indexer] = value instead\n",
      "\n",
      "See the caveats in the documentation: http://pandas.pydata.org/pandas-docs/stable/indexing.html#indexing-view-versus-copy\n"
     ]
    }
   ],
   "source": [
    "data_null = data[data['Mileage'].isnull() == True]\n",
    "data_notnull = data[data['Mileage'].isnull() == False]\n",
    "\n",
    "_mileage = list(data_notnull['Mileage'])\n",
    "_power = list(data_notnull['Power'])\n",
    "_car = list(data_notnull['Car_Name'])\n",
    "\n",
    "d = {}\n",
    "\n",
    "for i in range(len(_mileage)):\n",
    "    if _car[i] not in d:\n",
    "        d[_car[i]] = np.array([_mileage[i],_power[i],1])\n",
    "    else:\n",
    "        d[_car[i]] += np.array([_mileage[i],_power[i],1])\n",
    "        \n",
    "for i in d:\n",
    "    d[i] = d[i]/d[i][2]\n",
    "\n",
    "_mileage = list(data_null['Mileage'])\n",
    "_power = list(data_null['Power'])\n",
    "_car = list(data_null['Car_Name'])\n",
    "\n",
    "for i in range(len(_mileage)):\n",
    "    if str(_mileage[i]) == 'nan':\n",
    "        if _car[i] in d:\n",
    "            _mileage[i] = d[_car[i]][0]\n",
    "    if str(_power[i]) == 'nan':\n",
    "        if _car[i] in d:\n",
    "            _power[i] = d[_car[i]][1]\n",
    "\n",
    "data_null['Mileage'] = _mileage\n",
    "data_null['Power'] = _power\n",
    "\n",
    "data = pd.concat([data_notnull, data_null])"
   ]
  },
  {
   "cell_type": "markdown",
   "metadata": {},
   "source": [
    "Checked for <b>similar cars</b> in <b>not</b> null dataset and filling null values of <b>seats with it.</b>"
   ]
  },
  {
   "cell_type": "code",
   "execution_count": 14,
   "metadata": {},
   "outputs": [
    {
     "name": "stderr",
     "output_type": "stream",
     "text": [
      "C:\\Users\\Rishabh\\Anaconda3\\lib\\site-packages\\ipykernel_launcher.py:26: SettingWithCopyWarning: \n",
      "A value is trying to be set on a copy of a slice from a DataFrame.\n",
      "Try using .loc[row_indexer,col_indexer] = value instead\n",
      "\n",
      "See the caveats in the documentation: http://pandas.pydata.org/pandas-docs/stable/indexing.html#indexing-view-versus-copy\n"
     ]
    }
   ],
   "source": [
    "data_null = data[data['Seats'].isnull() == True]\n",
    "data_notnull = data[data['Seats'].isnull() == False]\n",
    "\n",
    "_car = list(data_notnull['Car_Name'])\n",
    "_seats = list(data_notnull['Seats'])\n",
    "d = {}\n",
    "\n",
    "for i in range(len(_seats)):\n",
    "    if _car[i] not in d:\n",
    "        d[_car[i]] = np.array([_seats[i],1])\n",
    "    else:\n",
    "        d[_car[i]] += np.array([_seats[i],1])\n",
    "        \n",
    "for i in d:\n",
    "    d[i] = d[i]/d[i][1]\n",
    "\n",
    "_car = list(data_null['Car_Name'])\n",
    "_seats = list(data_null['Seats'])\n",
    "\n",
    "for i in range(len(_seats)):\n",
    "    if str(_seats[i]) == 'nan':\n",
    "        if _car[i] in d:\n",
    "            _seats[i] = float(round(d[_car[i]][0]))\n",
    "            \n",
    "data_null['Seats'] = _seats\n",
    "\n",
    "data = pd.concat([data_notnull, data_null])\n",
    "\n",
    "median = data['Seats'].median()\n",
    "data['Seats'].fillna(median, inplace=True)"
   ]
  },
  {
   "cell_type": "markdown",
   "metadata": {},
   "source": [
    "Imported <b>DataFrame</b> from <b>pandas</b> and created object of <b>DataFrame as df</b> to plot the graphs."
   ]
  },
  {
   "cell_type": "markdown",
   "metadata": {},
   "source": [
    "Ploted the graph of <b>Older price</b> with the <b>New price</b> used <b>.plot</b> function to plot graph in pandas module to plot line graph used kind as <b>line</b> and on <b>x axis</b> taken <b>New price</b> and on <b>y axis</b> taken <b>older price</b>."
   ]
  },
  {
   "cell_type": "code",
   "execution_count": 15,
   "metadata": {},
   "outputs": [
    {
     "data": {
      "text/plain": [
       "<matplotlib.axes._subplots.AxesSubplot at 0x29c2657ee48>"
      ]
     },
     "execution_count": 15,
     "metadata": {},
     "output_type": "execute_result"
    },
    {
     "data": {
      "image/png": "[encoded data removed]",
      "text/plain": [
       "<Figure size 432x288 with 1 Axes>"
      ]
     },
     "metadata": {
      "needs_background": "light"
     },
     "output_type": "display_data"
    }
   ],
   "source": [
    "from pandas import DataFrame\n",
    "  \n",
    "df = DataFrame(data,columns=['New_Price','Price'])\n",
    "df.plot(x ='New_Price', y='Price', kind = 'line')"
   ]
  },
  {
   "cell_type": "markdown",
   "metadata": {},
   "source": [
    "Ploted the graph of <b>Mileage</b> with the <b>Seats</b> used <b>.plot</b> function to plot graph in pandas module to plot line graph used kind as <b>line</b> and on <b>x axis</b> taken <b>Mileage</b> and on <b>y axis</b> taken <b>Seats</b>."
   ]
  },
  {
   "cell_type": "code",
   "execution_count": 16,
   "metadata": {},
   "outputs": [
    {
     "data": {
      "text/plain": [
       "<matplotlib.axes._subplots.AxesSubplot at 0x29c26310a90>"
      ]
     },
     "execution_count": 16,
     "metadata": {},
     "output_type": "execute_result"
    },
    {
     "data": {
      "image/png": "[encoded data removed]",
      "text/plain": [
       "<Figure size 432x288 with 1 Axes>"
      ]
     },
     "metadata": {
      "needs_background": "light"
     },
     "output_type": "display_data"
    }
   ],
   "source": [
    "from pandas import DataFrame\n",
    "  \n",
    "df = DataFrame(data,columns=['Mileage','Seats'])\n",
    "df.plot(x ='Mileage', y='Seats', kind = 'line')"
   ]
  },
  {
   "cell_type": "markdown",
   "metadata": {},
   "source": [
    "Ploted the graph of <b>New_Price</b> with the <b>Power</b> used <b>.plot</b> function to plot graph in pandas module to plot line graph used kind as <b>line</b> and on <b>x axis</b> taken <b>New_Price</b> and on <b>y axis</b> taken <b>Power</b>."
   ]
  },
  {
   "cell_type": "code",
   "execution_count": 17,
   "metadata": {},
   "outputs": [
    {
     "data": {
      "text/plain": [
       "<matplotlib.axes._subplots.AxesSubplot at 0x29c278a6da0>"
      ]
     },
     "execution_count": 17,
     "metadata": {},
     "output_type": "execute_result"
    },
    {
     "data": {
      "image/png": "[encoded data removed]",
      "text/plain": [
       "<Figure size 432x288 with 1 Axes>"
      ]
     },
     "metadata": {
      "needs_background": "light"
     },
     "output_type": "display_data"
    }
   ],
   "source": [
    "from pandas import DataFrame\n",
    "  \n",
    "df = DataFrame(data,columns=['New_Price','Power'])\n",
    "df.plot(x ='New_Price', y='Power', kind = 'line')"
   ]
  },
  {
   "cell_type": "markdown",
   "metadata": {},
   "source": [
    "Ploted the graph of <b>New_Price</b> with the <b>Power</b> used <b>.plot</b> function to plot graph in pandas module to plot line graph used kind as <b>line</b> and on <b>x axis</b> taken <b>New_Price</b> and on <b>y axis</b> taken <b>Power</b>."
   ]
  },
  {
   "cell_type": "code",
   "execution_count": 18,
   "metadata": {},
   "outputs": [
    {
     "data": {
      "text/plain": [
       "<matplotlib.axes._subplots.AxesSubplot at 0x29c278fc668>"
      ]
     },
     "execution_count": 18,
     "metadata": {},
     "output_type": "execute_result"
    },
    {
     "data": {
      "image/png": "[encoded data removed]",
      "text/plain": [
       "<Figure size 432x288 with 1 Axes>"
      ]
     },
     "metadata": {
      "needs_background": "light"
     },
     "output_type": "display_data"
    }
   ],
   "source": [
    "from pandas import DataFrame\n",
    "  \n",
    "df = DataFrame(data,columns=['New_Price','Power'])\n",
    "df.plot(x ='New_Price', y='Power', kind = 'line')"
   ]
  },
  {
   "cell_type": "markdown",
   "metadata": {},
   "source": [
    "finally after trying to impute, if still any null values are left, then simply droped the rows."
   ]
  },
  {
   "cell_type": "code",
   "execution_count": 19,
   "metadata": {},
   "outputs": [],
   "source": [
    "data.dropna(axis=0, subset=['Power','Mileage',], inplace=True)\n",
    "data.index = range(data.shape[0])"
   ]
  },
  {
   "cell_type": "code",
   "execution_count": 20,
   "metadata": {},
   "outputs": [
    {
     "name": "stdout",
     "output_type": "stream",
     "text": [
      "<class 'pandas.core.frame.DataFrame'>\n",
      "RangeIndex: 6005 entries, 0 to 6004\n",
      "Data columns (total 16 columns):\n",
      "Name                 6005 non-null object\n",
      "Location             6005 non-null object\n",
      "Year                 6005 non-null int64\n",
      "Kilometers_Driven    6005 non-null int64\n",
      "Fuel_Type            6005 non-null object\n",
      "Transmission         6005 non-null int64\n",
      "Owner_Type           6005 non-null int64\n",
      "Mileage              6005 non-null float64\n",
      "Engine               6005 non-null float64\n",
      "Power                6005 non-null float64\n",
      "Seats                6005 non-null float64\n",
      "New_Price            823 non-null object\n",
      "Price                6005 non-null float64\n",
      "Brand                6005 non-null object\n",
      "Car_Name             6005 non-null object\n",
      "Model                6005 non-null object\n",
      "dtypes: float64(5), int64(4), object(7)\n",
      "memory usage: 750.7+ KB\n"
     ]
    }
   ],
   "source": [
    "data.info()"
   ]
  },
  {
   "cell_type": "markdown",
   "metadata": {},
   "source": [
    "Added <b>custom features</b> for highend cars for all brands."
   ]
  },
  {
   "cell_type": "code",
   "execution_count": 21,
   "metadata": {},
   "outputs": [],
   "source": [
    "List_Brands = list(data['Brand'].value_counts().index)\n",
    "Effective_brands = []\n",
    "\n",
    "for i in List_Brands:\n",
    "    data[i +'_Highend'] = data[['Brand', 'Price']].apply(lambda x : 1 if ((x['Brand']==i) & (x['Price'] > 35.0)) else 0, axis=1)\n",
    "    if bool(list(data[i+'_Highend'].value_counts().index) == [0]):\n",
    "        data.drop(i + '_Highend', axis=1, inplace=True)\n",
    "    else:\n",
    "        Effective_brands.append(i)"
   ]
  },
  {
   "cell_type": "markdown",
   "metadata": {},
   "source": [
    "## <u>encoding :"
   ]
  },
  {
   "cell_type": "code",
   "execution_count": 22,
   "metadata": {},
   "outputs": [],
   "source": [
    "from sklearn import preprocessing\n",
    "data_brand = data['Brand']\n",
    "encoder = preprocessing.LabelEncoder()\n",
    "encoder.fit(data_brand)\n",
    "data['Brand'] = encoder.transform(data_brand)\n",
    "\n",
    "data_carname = data['Car_Name'] \n",
    "encoder.fit(data_carname)\n",
    "data['Car_Name'] = encoder.transform(data_carname)\n",
    "\n",
    "data_fuel = data['Fuel_Type']\n",
    "encoder.fit(data_fuel)\n",
    "data['Fuel_Type'] = encoder.transform(data_fuel)\n",
    "\n",
    "data_model = data['Model']\n",
    "encoder.fit(data_model)\n",
    "data['Model'] = encoder.transform(data_model)"
   ]
  },
  {
   "cell_type": "markdown",
   "metadata": {},
   "source": [
    "<i><u>one hot encoding."
   ]
  },
  {
   "cell_type": "code",
   "execution_count": 23,
   "metadata": {},
   "outputs": [],
   "source": [
    "location = pd.get_dummies(data['Location'])\n",
    "data = pd.concat([data, location], axis=1)"
   ]
  },
  {
   "cell_type": "code",
   "execution_count": 24,
   "metadata": {},
   "outputs": [],
   "source": [
    "data_num = data.drop(['Name','New_Price','Price', 'Location','Fuel_Type'], axis=1)\n",
    "data_labels = data['Price']"
   ]
  },
  {
   "cell_type": "markdown",
   "metadata": {},
   "source": [
    "<i><u>feature scaling."
   ]
  },
  {
   "cell_type": "code",
   "execution_count": 25,
   "metadata": {},
   "outputs": [],
   "source": [
    "from sklearn.preprocessing import StandardScaler\n",
    "scaler = StandardScaler()\n",
    "data_final = scaler.fit_transform(data_num)\n",
    "\n",
    "data_final = pd.DataFrame(data_final, columns=data_num.columns)\n",
    "\n",
    "data_num = data_final"
   ]
  },
  {
   "cell_type": "markdown",
   "metadata": {},
   "source": [
    "<i><u>applying LinearRegression to the data to perform linear regression<i><u>."
   ]
  },
  {
   "cell_type": "code",
   "execution_count": 26,
   "metadata": {},
   "outputs": [
    {
     "name": "stdout",
     "output_type": "stream",
     "text": [
      "4.328856785318259\n"
     ]
    }
   ],
   "source": [
    "from sklearn.linear_model import LinearRegression\n",
    "\n",
    "lin_reg = LinearRegression()\n",
    "lin_reg.fit(data_num, data_labels)\n",
    "\n",
    "from sklearn.metrics import mean_squared_error\n",
    "lin_predictions = lin_reg.predict(data_num)\n",
    "\n",
    "lin_mse = mean_squared_error(data_labels,lin_predictions)\n",
    "lin_rmse = np.sqrt(lin_mse)\n",
    "print(lin_rmse)\n"
   ]
  },
  {
   "cell_type": "markdown",
   "metadata": {},
   "source": [
    "<i><u>Applying Decision tree Regressor."
   ]
  },
  {
   "cell_type": "code",
   "execution_count": 27,
   "metadata": {},
   "outputs": [
    {
     "data": {
      "text/plain": [
       "0.020483199861040302"
      ]
     },
     "execution_count": 27,
     "metadata": {},
     "output_type": "execute_result"
    }
   ],
   "source": [
    "from sklearn.tree import DecisionTreeRegressor\n",
    "\n",
    "tree_reg = DecisionTreeRegressor()\n",
    "tree_reg.fit(data_num, data_labels)\n",
    "\n",
    "from sklearn.metrics import mean_squared_error\n",
    "tree_predictions = tree_reg.predict(data_num)\n",
    "\n",
    "tree_mse = mean_squared_error(data_labels,tree_predictions)\n",
    "tree_rmse = np.sqrt(tree_mse)\n",
    "tree_rmse"
   ]
  },
  {
   "cell_type": "markdown",
   "metadata": {},
   "source": [
    "<i><u>Checking for overfitting in Decision Tree."
   ]
  },
  {
   "cell_type": "code",
   "execution_count": 28,
   "metadata": {},
   "outputs": [
    {
     "name": "stdout",
     "output_type": "stream",
     "text": [
      "Scores: [4.31320755 5.63368293 4.34080125 4.42858443 2.93935755 4.48067713\n",
      " 6.17319741 6.23431651 4.2890208  6.21773035]\n",
      "Mean: 4.905057589881102\n",
      "Standard deviation: 1.046345432858341\n"
     ]
    }
   ],
   "source": [
    "<i><u>from sklearn.model_selection import cross_val_score\n",
    "\n",
    "scores=cross_val_score(tree_reg,data_num,data_labels,scoring=\"neg_mean_squared_error\",cv=10) \n",
    "tree_rmse_scores=np.sqrt(-scores)\n",
    "\n",
    "def display_scores(scores): \n",
    "    print(\"Scores:\",scores)\n",
    "    print(\"Mean:\",scores.mean())\n",
    "    print(\"Standard deviation:\",scores.std())\n",
    "display_scores(tree_rmse_scores)"
   ]
  },
  {
   "cell_type": "markdown",
   "metadata": {},
   "source": [
    "<i><u>Applying Random Forest Regressor."
   ]
  },
  {
   "cell_type": "code",
   "execution_count": 29,
   "metadata": {},
   "outputs": [
    {
     "name": "stderr",
     "output_type": "stream",
     "text": [
      "C:\\Users\\Rishabh\\Anaconda3\\lib\\site-packages\\sklearn\\ensemble\\forest.py:245: FutureWarning: The default value of n_estimators will change from 10 in version 0.20 to 100 in 0.22.\n",
      "  \"10 in version 0.20 to 100 in 0.22.\", FutureWarning)\n"
     ]
    },
    {
     "name": "stdout",
     "output_type": "stream",
     "text": [
      "Scores: [3.3663848  2.69340928 2.85453995 4.16644143 3.3411483  3.99868982\n",
      " 4.67370209 3.11037143 3.7928971  5.22436149]\n",
      "Mean: 3.722194568971317\n",
      "Standard deviation: 0.7679859291212765\n"
     ]
    }
   ],
   "source": [
    "from sklearn.ensemble import RandomForestRegressor\n",
    "forest_reg = RandomForestRegressor()\n",
    "forest_reg.fit(data_num,data_labels) \n",
    "\n",
    "scores=cross_val_score(forest_reg,data_num,data_labels,scoring=\"neg_mean_squared_error\",cv=10) \n",
    "display_scores(np.sqrt(-scores))"
   ]
  },
  {
   "cell_type": "markdown",
   "metadata": {},
   "source": [
    "<i><u>Applying Grid Search CV."
   ]
  },
  {
   "cell_type": "code",
   "execution_count": 30,
   "metadata": {},
   "outputs": [
    {
     "data": {
      "text/plain": [
       "GridSearchCV(cv=5, error_score='raise-deprecating',\n",
       "             estimator=RandomForestRegressor(bootstrap=True, criterion='mse',\n",
       "                                             max_depth=None,\n",
       "                                             max_features='auto',\n",
       "                                             max_leaf_nodes=None,\n",
       "                                             min_impurity_decrease=0.0,\n",
       "                                             min_impurity_split=None,\n",
       "                                             min_samples_leaf=1,\n",
       "                                             min_samples_split=2,\n",
       "                                             min_weight_fraction_leaf=0.0,\n",
       "                                             n_estimators='warn', n_jobs=None,\n",
       "                                             oob_score=False, random_state=None,\n",
       "                                             verbose=0, warm_start=False),\n",
       "             iid='warn', n_jobs=None,\n",
       "             param_grid=[{'max_features': [10, 12],\n",
       "                          'n_estimators': [30, 50, 70]},\n",
       "                         {'bootstrap': [False], 'max_features': [10, 12, 14],\n",
       "                          'n_estimators': [30, 50]}],\n",
       "             pre_dispatch='2*n_jobs', refit=True, return_train_score=False,\n",
       "             scoring='neg_mean_squared_error', verbose=0)"
      ]
     },
     "execution_count": 30,
     "metadata": {},
     "output_type": "execute_result"
    }
   ],
   "source": [
    "from sklearn.model_selection import GridSearchCV\n",
    "param_grid=[{'n_estimators':[30,50,70],'max_features':[10,12]},{'bootstrap':[False],'n_estimators':[30,50],'max_features':[10,12,14]},]\n",
    "forest_reg=RandomForestRegressor()\n",
    "grid_search=GridSearchCV(forest_reg,param_grid,cv=5,scoring='neg_mean_squared_error')\n",
    "\n",
    "grid_search.fit(data_num, data_labels)"
   ]
  },
  {
   "cell_type": "code",
   "execution_count": 31,
   "metadata": {},
   "outputs": [
    {
     "name": "stdout",
     "output_type": "stream",
     "text": [
      "3.5228945341252564 {'max_features': 10, 'n_estimators': 30}\n",
      "3.5353681747986494 {'max_features': 10, 'n_estimators': 50}\n",
      "3.458813364829963 {'max_features': 10, 'n_estimators': 70}\n",
      "3.5915953151346334 {'max_features': 12, 'n_estimators': 30}\n",
      "3.5565772882511157 {'max_features': 12, 'n_estimators': 50}\n",
      "3.4710150292513027 {'max_features': 12, 'n_estimators': 70}\n",
      "3.4975237318033456 {'bootstrap': False, 'max_features': 10, 'n_estimators': 30}\n",
      "3.4457575004470544 {'bootstrap': False, 'max_features': 10, 'n_estimators': 50}\n",
      "3.526327646927183 {'bootstrap': False, 'max_features': 12, 'n_estimators': 30}\n",
      "3.54844462344194 {'bootstrap': False, 'max_features': 12, 'n_estimators': 50}\n",
      "3.6067952245599546 {'bootstrap': False, 'max_features': 14, 'n_estimators': 30}\n",
      "3.5332204077617924 {'bootstrap': False, 'max_features': 14, 'n_estimators': 50}\n"
     ]
    }
   ],
   "source": [
    "cvres=grid_search.cv_results_ \n",
    "for mean_score,params in zip(cvres[\"mean_test_score\"],cvres[\"params\"]): \n",
    "    print(np.sqrt(-mean_score),params) "
   ]
  },
  {
   "cell_type": "markdown",
   "metadata": {},
   "source": [
    "<i><u>Ploted a graph feature importances on all columns to get Relativr importance sbout it."
   ]
  },
  {
   "cell_type": "code",
   "execution_count": 32,
   "metadata": {},
   "outputs": [
    {
     "data": {
      "text/plain": [
       "Text(0.5, 0, 'Relative Importance')"
      ]
     },
     "execution_count": 32,
     "metadata": {},
     "output_type": "execute_result"
    },
    {
     "data": {
      "image/png": "[encoded data removed]",
      "text/plain": [
       "<Figure size 864x576 with 1 Axes>"
      ]
     },
     "metadata": {
      "needs_background": "light"
     },
     "output_type": "display_data"
    }
   ],
   "source": [
    "features=data_num.columns\n",
    "importances = grid_search.best_estimator_.feature_importances_\n",
    "indices = np.argsort(importances)\n",
    "\n",
    "plt.subplots(1, figsize=(12,8))\n",
    "plt.title('Feature Importances')\n",
    "plt.barh(range(len(indices)), importances[indices], color='b', align='center')\n",
    "plt.yticks(range(len(indices)), features[indices])\n",
    "plt.xlabel('Relative Importance')"
   ]
  },
  {
   "cell_type": "markdown",
   "metadata": {},
   "source": [
    "<i><u>Used grid search on the <b>model</b> column in the data."
   ]
  },
  {
   "cell_type": "code",
   "execution_count": 33,
   "metadata": {},
   "outputs": [
    {
     "data": {
      "text/plain": [
       "0.020483199861040302"
      ]
     },
     "execution_count": 33,
     "metadata": {},
     "output_type": "execute_result"
    }
   ],
   "source": [
    "model = grid_search.best_estimator_\n",
    "predictions = model.predict(data_num)\n",
    "\n",
    "mse = mean_squared_error(predictions, data_labels)\n",
    "\n",
    "rmse = np.sqrt(mse)\n",
    "rmse"
   ]
  },
  {
   "cell_type": "markdown",
   "metadata": {},
   "source": [
    "<i>modified the columns <b>Brand, car_Name</b> and <b>Model</b> using <b>list, .apend, .series</b>(from pandas)."
   ]
  },
  {
   "cell_type": "code",
   "execution_count": 34,
   "metadata": {},
   "outputs": [],
   "source": [
    "Name = list(test_data['Name'])\n",
    "Brand = []\n",
    "Car_Name = []\n",
    "Model = []\n",
    "\n",
    "for i in range(len(Name)):\n",
    "    if 'Range Rover' in Name[i]:\n",
    "        Name[i] = Name[i].replace('Range Rover','Range_Rover')\n",
    "    if 'Land Rover' in Name[i]:\n",
    "        Name[i] = Name[i].replace('Land Rover', 'Land_Rover')\n",
    "    if ' Series' in Name[i]:\n",
    "        Name[i] = Name[i].replace(' Series', 'Series')\n",
    "    if ' New' in Name[i]:\n",
    "        Name[i] = Name[i].replace(' New','')\n",
    "    if ' Class' in Name[i]:\n",
    "        Name[i] = Name[i].replace(' Class','-Class')\n",
    "    if 'Wagon R' in Name[i]:\n",
    "        Name[i] = Name[i].replace('Wagon R', 'WagonR')\n",
    "\n",
    "    i = Name[i]\n",
    "    i = i.split(' ',2)\n",
    "    Brand.append(i[0])\n",
    "    Car_Name.append(i[1])\n",
    "    if len(i) == 2:\n",
    "        i.append('Lxi')\n",
    "    Model.append(i[2])\n",
    "        \n",
    "    \n",
    "Brand = pd.Series(Brand)\n",
    "Car_Name = pd.Series(Car_Name)\n",
    "Model = pd.Series(Model)\n",
    "\n",
    "test_data['Brand'] = Brand\n",
    "test_data['Car_Name'] = Car_Name\n",
    "test_data['Model'] = Model"
   ]
  },
  {
   "cell_type": "code",
   "execution_count": 35,
   "metadata": {},
   "outputs": [],
   "source": [
    "current_year = 2020\n",
    "test_data['Year'] = current_year - test_data['Year']"
   ]
  },
  {
   "cell_type": "markdown",
   "metadata": {},
   "source": [
    "Modified the columns <b>Transmission</b> and <b>Owner_type</b> using <b>Dict_t, Divt_o and .series</b>(from pandas)."
   ]
  },
  {
   "cell_type": "code",
   "execution_count": 36,
   "metadata": {},
   "outputs": [],
   "source": [
    "Transmission = list(test_data['Transmission'])\n",
    "Owner_Type = list(test_data['Owner_Type'])\n",
    "Dict_t = {'Automatic':1, 'Manual':0}\n",
    "Dict_o = {'First':1, 'Second':2, 'Third':3, 'Fourth & Above':4}\n",
    "for i in range(len(Transmission)):\n",
    "    t = Transmission[i]\n",
    "    o = Owner_Type[i]\n",
    "    \n",
    "    Transmission[i] = Dict_t[t]\n",
    "    Owner_Type[i] = Dict_o[o]\n",
    "    \n",
    "test_data['Transmission'] = pd.Series(Transmission)\n",
    "test_data['Owner_Type'] = pd.Series(Owner_Type)"
   ]
  },
  {
   "cell_type": "markdown",
   "metadata": {},
   "source": [
    "Modified the columns <b>Mileage</b> and <b>Fuel_Type</b> using <b>.replace and .strip</b> functions."
   ]
  },
  {
   "cell_type": "code",
   "execution_count": 37,
   "metadata": {},
   "outputs": [],
   "source": [
    "Mileage = list(test_data['Mileage'])\n",
    "Fuel_Type = test_data['Fuel_Type']\n",
    "\n",
    "for i in range(len(Mileage)):\n",
    "    if 'CNG' in Fuel_Type[i] or 'LPG' in Fuel_Type[i] :\n",
    "        Mileage[i] = Mileage[i].replace('km/kg','')\n",
    "        Mileage[i] = Mileage[i].strip()\n",
    "        Mileage[i] = float(Mileage[i])\n",
    "        \n",
    "    if 'Petrol' in Fuel_Type[i] or 'Diesel' in Fuel_Type[i]:\n",
    "        Mileage[i] = Mileage[i].replace('kmpl','')\n",
    "        Mileage[i] = Mileage[i].strip()\n",
    "        Mileage[i] = float(Mileage[i])\n",
    "    \n",
    "test_data['Mileage'] = Mileage"
   ]
  },
  {
   "cell_type": "markdown",
   "metadata": {},
   "source": [
    "Modified the columns <b>engine</b> and <b>power</b> using <b>.replace</b> function."
   ]
  },
  {
   "cell_type": "code",
   "execution_count": 38,
   "metadata": {},
   "outputs": [],
   "source": [
    "engine = list(test_data['Engine'])\n",
    "power = list(test_data['Power'])\n",
    "\n",
    "for i in range(len(engine)):\n",
    "    if 'CC' in str(engine[i]):\n",
    "        engine[i] = engine[i].replace(' CC','')\n",
    "        engine[i] = float(engine[i])\n",
    "    if power[i] == 'null bhp':\n",
    "        power[i] = 0.0\n",
    "    if 'bhp' in str(power[i]):\n",
    "        power[i] = power[i].replace(' bhp','')\n",
    "        power[i] = float(power[i])\n",
    "test_data['Engine'] = engine\n",
    "test_data['Power'] = power"
   ]
  },
  {
   "cell_type": "code",
   "execution_count": 39,
   "metadata": {},
   "outputs": [],
   "source": [
    "for i in Effective_brands:\n",
    "    test_data[i +'_Highend'] = test_data[['Brand','New_Price']].apply(lambda x : 1 if (x['Brand']==i) else 0, axis=1)"
   ]
  },
  {
   "cell_type": "markdown",
   "metadata": {},
   "source": [
    "Imported <b>preprocessing</b> from <b>sklearn</b> and modified <b>brand, car name, fuel and model</b> using <b>.fit and .transfer</b> from encoder."
   ]
  },
  {
   "cell_type": "code",
   "execution_count": 40,
   "metadata": {},
   "outputs": [],
   "source": [
    "from sklearn import preprocessing\n",
    "data_brand = test_data['Brand']\n",
    "encoder = preprocessing.LabelEncoder()\n",
    "encoder.fit(data_brand)\n",
    "test_data['Brand'] = encoder.transform(data_brand)\n",
    "\n",
    "data_carname = test_data['Car_Name'] \n",
    "encoder.fit(data_carname)\n",
    "test_data['Car_Name'] = encoder.transform(data_carname)\n",
    "\n",
    "data_fuel = test_data['Fuel_Type']\n",
    "encoder.fit(data_fuel)\n",
    "test_data['Fuel_Type'] = encoder.transform(data_fuel)\n",
    "\n",
    "data_model = test_data['Model']\n",
    "encoder.fit(data_model)\n",
    "test_data['Model'] = encoder.transform(data_model)"
   ]
  },
  {
   "cell_type": "code",
   "execution_count": 41,
   "metadata": {},
   "outputs": [],
   "source": [
    "location = pd.get_dummies(test_data['Location'])\n",
    "test_data = pd.concat([test_data, location], axis=1)"
   ]
  },
  {
   "cell_type": "markdown",
   "metadata": {},
   "source": [
    "<i>Dropped the data from Name, New price, Location and Fuel type."
   ]
  },
  {
   "cell_type": "code",
   "execution_count": 42,
   "metadata": {},
   "outputs": [],
   "source": [
    "test_data_num = test_data.drop(['Name','New_Price', 'Location','Fuel_Type'], axis=1)"
   ]
  },
  {
   "cell_type": "markdown",
   "metadata": {},
   "source": [
    "<i><u>Checked the data using .info function."
   ]
  },
  {
   "cell_type": "code",
   "execution_count": 43,
   "metadata": {},
   "outputs": [
    {
     "name": "stdout",
     "output_type": "stream",
     "text": [
      "<class 'pandas.core.frame.DataFrame'>\n",
      "RangeIndex: 1234 entries, 0 to 1233\n",
      "Data columns (total 33 columns):\n",
      "Year                     1234 non-null int64\n",
      "Kilometers_Driven        1234 non-null int64\n",
      "Transmission             1234 non-null int64\n",
      "Owner_Type               1234 non-null int64\n",
      "Mileage                  1234 non-null float64\n",
      "Engine                   1224 non-null float64\n",
      "Power                    1224 non-null float64\n",
      "Seats                    1223 non-null float64\n",
      "Brand                    1234 non-null int32\n",
      "Car_Name                 1234 non-null int32\n",
      "Model                    1234 non-null int32\n",
      "Toyota_Highend           1234 non-null int64\n",
      "Mercedes-Benz_Highend    1234 non-null int64\n",
      "Ford_Highend             1234 non-null int64\n",
      "BMW_Highend              1234 non-null int64\n",
      "Audi_Highend             1234 non-null int64\n",
      "Land_Rover_Highend       1234 non-null int64\n",
      "Jaguar_Highend           1234 non-null int64\n",
      "Mini_Highend             1234 non-null int64\n",
      "Porsche_Highend          1234 non-null int64\n",
      "Bentley_Highend          1234 non-null int64\n",
      "Lamborghini_Highend      1234 non-null int64\n",
      "Ahmedabad                1234 non-null uint8\n",
      "Bangalore                1234 non-null uint8\n",
      "Chennai                  1234 non-null uint8\n",
      "Coimbatore               1234 non-null uint8\n",
      "Delhi                    1234 non-null uint8\n",
      "Hyderabad                1234 non-null uint8\n",
      "Jaipur                   1234 non-null uint8\n",
      "Kochi                    1234 non-null uint8\n",
      "Kolkata                  1234 non-null uint8\n",
      "Mumbai                   1234 non-null uint8\n",
      "Pune                     1234 non-null uint8\n",
      "dtypes: float64(4), int32(3), int64(15), uint8(11)\n",
      "memory usage: 211.0 KB\n"
     ]
    }
   ],
   "source": [
    "test_data_num.info()"
   ]
  },
  {
   "cell_type": "code",
   "execution_count": 44,
   "metadata": {},
   "outputs": [],
   "source": [
    "test_data_num.fillna(0.0, inplace=True)"
   ]
  },
  {
   "cell_type": "code",
   "execution_count": 45,
   "metadata": {},
   "outputs": [
    {
     "data": {
      "text/plain": [
       "array([29.678 , 29.678 , 29.678 , ..., 29.678 , 35.7022, 34.4822])"
      ]
     },
     "execution_count": 45,
     "metadata": {},
     "output_type": "execute_result"
    }
   ],
   "source": [
    "model.predict(test_data_num)"
   ]
  },
  {
   "cell_type": "markdown",
   "metadata": {},
   "source": [
    "# <b><i><u>Inference :"
   ]
  },
  {
   "cell_type": "markdown",
   "metadata": {},
   "source": [
    "We will conclude the whole analysis sequentially; in the order the graphs are\n",
    "plotted.\n",
    "\n",
    "we checked the given data for the duplicate values and then then we fixed the\n",
    "names in order to get in order to get proper brand names, car names and\n",
    "model names. Then we added three new features to the data - &#39;Brand&#39;, &#39;Car\n",
    "Name&#39;, &#39;Model&#39;. Converted the year column into how old the car is by\n",
    "subtracting it from the current year\n",
    "Converted transmission into binary type and converted owner type into\n",
    "numerical data. After that cleaned mileage column and identified where the\n",
    "values are 0.0. Then cleaned engine and power columns and identified where\n",
    "the value is null bhp in power. Next, we checked for similar cars in not-null\n",
    "dataset and\n",
    "\n",
    "1) Started filling null vales of power and engine with it.<br>\n",
    "2) Filled null values of mileage with it.<br>\n",
    "3) Started filling null values of seats with it.<br>\n",
    "The data of engine, mileage, seats, power is plotted in the graph. Firstly,\n",
    "we plotted the graph of old-price vs new-price. And then the second graph\n",
    "was of seating capacity according to the price of the cars. And the last graph\n",
    "was of power of the cars according to the price of cars.\n",
    "Finally, after trying to impute, we still remained with the null values then\n",
    "we simply dropped those rows. After that we added custom features for\n",
    "highend cars for all brands. Then we encoded the labels of all cars according to\n",
    "their Brand, Car-type, Fuel Capacity, Seating Capacity, Fuel type, Model, etc.\n",
    "Then we applied different statistical approach for modelling\n",
    "relationship between dependent variables such as linear regression, decision tree\n",
    "regressor. After that we checked for overfitting in decision tree and at the last we\n",
    "applied the random forest regressesors.\n",
    "\n",
    "Thank you for giving us such great opportunity. We enjoyed a lot while\n",
    "working with this type of project and team members. The overall experience was\n",
    "great. Once again thank you so much for this kind of great opportunity."
   ]
  }
 ],
 "metadata": {
  "kernelspec": {
   "display_name": "Python 3",
   "language": "python",
   "name": "python3"
  },
  "language_info": {
   "codemirror_mode": {
    "name": "ipython",
    "version": 3
   },
   "file_extension": ".py",
   "mimetype": "text/x-python",
   "name": "python",
   "nbconvert_exporter": "python",
   "pygments_lexer": "ipython3",
   "version": "3.7.4"
  }
 },
 "nbformat": 4,
 "nbformat_minor": 2
}
